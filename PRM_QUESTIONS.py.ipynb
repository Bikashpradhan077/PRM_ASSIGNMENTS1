{
 "cells": [
  {
   "cell_type": "code",
   "execution_count": null,
   "id": "f2b66736",
   "metadata": {},
   "outputs": [],
   "source": [
    "#QUestion no 1"
   ]
  },
  {
   "cell_type": "code",
   "execution_count": 4,
   "id": "e744129c",
   "metadata": {},
   "outputs": [
    {
     "name": "stdout",
     "output_type": "stream",
     "text": [
      "5\n",
      "'ytr'\n",
      "'tre'\n",
      "'sdf'\n",
      "'you'\n",
      "'uytr'\n",
      "[\"'tre'\", \"'sdf'\", \"'ytr'\", \"'uytr'\", \"'you'\"]\n"
     ]
    }
   ],
   "source": [
    "\n",
    "n = int(input())\n",
    "list = []\n",
    "for i in range(n):\n",
    "    list.append(input())\n",
    "\n",
    "list.sort(key=lambda x: x[-2])\n",
    "\n",
    "print(list)"
   ]
  },
  {
   "cell_type": "code",
   "execution_count": 8,
   "id": "f9e82e19",
   "metadata": {},
   "outputs": [
    {
     "name": "stdout",
     "output_type": "stream",
     "text": [
      "Valid Triangle\n",
      "valid Rectangle\n"
     ]
    }
   ],
   "source": [
    "#Question no 2\n",
    "\n",
    "class Shape:\n",
    "    def __init__(self, *args):\n",
    "        self.sides = args\n",
    "\n",
    "    def validate_triangle(self):\n",
    "        if self.sides[0] + self.sides[1] <= self.sides[2] or self.sides[1] + self.sides[2] <= self.sides[0] or self.sides[2] + self.sides[0] <= self.sides[1]:\n",
    "            print(\"Invalid triangle\")\n",
    "        else:\n",
    "            print(\"Valid Triangle\")\n",
    "\n",
    "    def validate_rectangle(self):       \n",
    "        if self.sides[0] == self.sides[2] and self.sides[1] == self.sides[3]:\n",
    "            print(\"Valid Rectangle\")\n",
    "        else:\n",
    "            print(\"valid Rectangle\")\n",
    "\n",
    "t = Shape(3, 4, 5)\n",
    "r = Shape(24, 2, 4, 2)\n",
    "\n",
    "t.validate_triangle()\n",
    "r.validate_rectangle()\n"
   ]
  },
  {
   "cell_type": "code",
   "execution_count": null,
   "id": "0cb851fa",
   "metadata": {},
   "outputs": [],
   "source": []
  }
 ],
 "metadata": {
  "kernelspec": {
   "display_name": "Python 3 (ipykernel)",
   "language": "python",
   "name": "python3"
  },
  "language_info": {
   "codemirror_mode": {
    "name": "ipython",
    "version": 3
   },
   "file_extension": ".py",
   "mimetype": "text/x-python",
   "name": "python",
   "nbconvert_exporter": "python",
   "pygments_lexer": "ipython3",
   "version": "3.9.13"
  }
 },
 "nbformat": 4,
 "nbformat_minor": 5
}
